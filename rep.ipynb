{
  "nbformat": 4,
  "nbformat_minor": 0,
  "metadata": {
    "colab": {
      "provenance": [],
      "authorship_tag": "ABX9TyPrIcWYSs7AAW02gh2dhDfi"
    },
    "kernelspec": {
      "name": "python3",
      "display_name": "Python 3"
    },
    "language_info": {
      "name": "python"
    }
  },
  "cells": [
    {
      "cell_type": "markdown",
      "source": [],
      "metadata": {
        "id": "bLQ5MORbAPRi"
      }
    },
    {
      "cell_type": "markdown",
      "source": [
        "# Отчет по Лабораторной работе №1\n",
        "\n",
        "## Задание\n",
        "Создал учетную запись в [GitHub](https://github.com/prosto31)\n",
        "\n",
        "Выполните форк репозитория [Chebatorevsa](https://github.com/chebotarevsa/dap-2024)\n",
        "\n",
        "Создал учетную запись в [Google Colab](https://https://colab.research.google.com/github/prosto31/les1/blob/main/rep.ipynb#scrollTo=oOzLNc6GAWE-)\n",
        "\n",
        "Настроил интеграцию Google Colab и GitHub\n",
        "Создал в Google Colab отчет о выполненой работе в виде файла rep.ipynb.\n",
        "Используйте Markdown разметку (\n",
        "1.  # заголовки\n",
        "2.   списки\n",
        "3.   ***форматированный текст***\n",
        "4.   [ссылки](https://)\n",
        "\n",
        "Сохраните отчет в ваш репозиторий github в директории ./les01\n",
        "\n",
        "Создайте pull request в репозиторий [Chebatorevsa](https://github.com/chebotarevsa/dap-2024). Название pull request должно иметь формат \"<1Лабораторная работа> <12002208> <Коваленко Денис Дмитриевич>\"\n",
        "Сдать работу в системе \"Пегас\", в отчет укажите ссылку на pull request\n"
      ],
      "metadata": {
        "id": "oOzLNc6GAWE-"
      }
    }
  ]
}